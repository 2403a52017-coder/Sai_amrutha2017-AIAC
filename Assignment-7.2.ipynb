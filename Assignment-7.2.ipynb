{
  "nbformat": 4,
  "nbformat_minor": 0,
  "metadata": {
    "colab": {
      "provenance": []
    },
    "kernelspec": {
      "name": "python3",
      "display_name": "Python 3"
    },
    "language_info": {
      "name": "python"
    }
  },
  "cells": [
    {
      "cell_type": "markdown",
      "source": [
        "TEXT-1"
      ],
      "metadata": {
        "id": "h3RzyLkwnc2L"
      }
    },
    {
      "cell_type": "code",
      "source": [
        "a=10\n",
        "if a==10:\n",
        "  print(\"equal\")"
      ],
      "metadata": {
        "colab": {
          "base_uri": "https://localhost:8080/"
        },
        "id": "k6vod4b6g9TM",
        "outputId": "dd13dcf2-8e5d-4b92-ed1d-9b3009ad0e2f"
      },
      "execution_count": 2,
      "outputs": [
        {
          "output_type": "stream",
          "name": "stdout",
          "text": [
            "equal\n"
          ]
        }
      ]
    },
    {
      "cell_type": "markdown",
      "source": [
        "TEXT-2"
      ],
      "metadata": {
        "id": "_Q5q8VvsngqZ"
      }
    },
    {
      "cell_type": "code",
      "source": [
        "def sum_upto_n(n):\n",
        "  total = 0\n",
        "  for i in range(1,n+1):\n",
        "    total +=i\n",
        "    return total"
      ],
      "metadata": {
        "id": "_Bint2qphn1f"
      },
      "execution_count": 6,
      "outputs": []
    },
    {
      "cell_type": "markdown",
      "source": [
        "TEXT-3"
      ],
      "metadata": {
        "id": "kRyhM36Bni6E"
      }
    },
    {
      "cell_type": "code",
      "source": [
        "from os import name\n",
        "class user:\n",
        "  def __init__(self, name):\n",
        "    self.name = name\n",
        "  def getName(self):\n",
        "    return self.name\n",
        "u = user(\"alice\")\n",
        "print(u.getName())"
      ],
      "metadata": {
        "colab": {
          "base_uri": "https://localhost:8080/"
        },
        "id": "Aa643jm2jOXk",
        "outputId": "5c75a3c1-670a-420e-df25-906b6ca46e5b"
      },
      "execution_count": 9,
      "outputs": [
        {
          "output_type": "stream",
          "name": "stdout",
          "text": [
            "alice\n"
          ]
        }
      ]
    },
    {
      "cell_type": "markdown",
      "source": [
        "TEXT-4"
      ],
      "metadata": {
        "id": "V9nAQEGfnkyc"
      }
    },
    {
      "cell_type": "code",
      "source": [
        "class car:\n",
        "  def start(self):\n",
        "    print(\"car started\")\n",
        "mycar=car()\n",
        "mycar.start()"
      ],
      "metadata": {
        "colab": {
          "base_uri": "https://localhost:8080/"
        },
        "id": "Ss5sBWfKkPCy",
        "outputId": "536c6ba7-ee86-4531-969e-2177373cf893"
      },
      "execution_count": 14,
      "outputs": [
        {
          "output_type": "stream",
          "name": "stdout",
          "text": [
            "car started\n"
          ]
        }
      ]
    },
    {
      "cell_type": "markdown",
      "source": [
        "TEXT-5"
      ],
      "metadata": {
        "id": "hzNHVXTHnnDv"
      }
    },
    {
      "cell_type": "code",
      "source": [
        "def grade_student(score):\n",
        "  if score >= 70:\n",
        "    return \"A\"\n",
        "  elif score >= 40:\n",
        "    return \"B\"\n",
        "  else:\n",
        "    return \"C\""
      ],
      "metadata": {
        "id": "c7d67BiZkzmJ"
      },
      "execution_count": 22,
      "outputs": []
    }
  ]
}