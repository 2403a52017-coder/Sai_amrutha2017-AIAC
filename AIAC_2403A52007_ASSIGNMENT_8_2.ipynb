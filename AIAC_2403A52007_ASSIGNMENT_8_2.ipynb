{
  "nbformat": 4,
  "nbformat_minor": 0,
  "metadata": {
    "colab": {
      "provenance": []
    },
    "kernelspec": {
      "name": "python3",
      "display_name": "Python 3"
    },
    "language_info": {
      "name": "python"
    }
  },
  "cells": [
    {
      "cell_type": "markdown",
      "source": [
        "TEXT-1"
      ],
      "metadata": {
        "id": "mPOiKjNApJLF"
      }
    },
    {
      "cell_type": "code",
      "metadata": {
        "colab": {
          "base_uri": "https://localhost:8080/"
        },
        "id": "c720192f",
        "outputId": "2696684e-6ac7-44ed-91e5-2a799b8f5560"
      },
      "source": [
        "def is_prime(n):\n",
        "    \"\"\"\n",
        "    Checks if a number is prime.\n",
        "    Args:\n",
        "        n: An integer.\n",
        "    Returns:\n",
        "        True if n is prime, False otherwise.\n",
        "    \"\"\"\n",
        "    if n <= 1:\n",
        "        return False\n",
        "    if n == 2:\n",
        "        return True\n",
        "    if n % 2 == 0:\n",
        "        return False\n",
        "    i = 3\n",
        "    while i * i <= n:\n",
        "        if n % i == 0:\n",
        "            return False\n",
        "        i += 2\n",
        "    return True\n",
        "# Get user input\n",
        "try:\n",
        "    num_to_check = int(input(\"Enter an integer to check if it's prime: \"))\n",
        "    print(f\"is_prime({num_to_check}): {is_prime(num_to_check)}\")\n",
        "except ValueError:\n",
        "    print(\"Invalid input. Please enter an integer.\")"
      ],
      "execution_count": null,
      "outputs": [
        {
          "output_type": "stream",
          "name": "stdout",
          "text": [
            "Enter an integer to check if it's prime: -3\n",
            "is_prime(-3): False\n"
          ]
        }
      ]
    },
    {
      "cell_type": "markdown",
      "source": [
        "TEXT-2"
      ],
      "metadata": {
        "id": "3pN5PhRopDK7"
      }
    },
    {
      "cell_type": "code",
      "metadata": {
        "colab": {
          "base_uri": "https://localhost:8080/"
        },
        "id": "2498633d",
        "outputId": "dcfda038-1ff8-4f29-84ed-e846051bb787"
      },
      "source": [
        "# Test cases\n",
        "print(\"Testing celsius_to_fahrenheit:\")\n",
        "print(f\"0°C = {celsius_to_fahrenheit(0)}°F\")\n",
        "print(f\"100°C = {celsius_to_fahrenheit(100)}°F\")\n",
        "print(f\"25.5°C = {celsius_to_fahrenheit(25.5)}°F\")\n",
        "print(f\"'abc' = {celsius_to_fahrenheit('abc')}\")\n",
        "print(f\"None = {celsius_to_fahrenheit(None)}\")\n",
        "\n",
        "print(\"\\nTesting fahrenheit_to_celsius:\")\n",
        "print(f\"32°F = {fahrenheit_to_celsius(32)}°C\")\n",
        "print(f\"212°F = {fahrenheit_to_celsius(212)}°C\")\n",
        "print(f\"77.9°F = {fahrenheit_to_celsius(77.9)}°C\")\n",
        "print(f\"'xyz' = {fahrenheit_to_celsius('xyz')}\")\n",
        "print(f\"None = {fahrenheit_to_celsius(None)}\")\n",
        "# User input\n",
        "try:\n",
        "    user_celsius = input(\"\\nEnter a temperature in Celsius: \")\n",
        "    try:\n",
        "        celsius_val = float(user_celsius)\n",
        "        print(f\"{user_celsius}°C = {celsius_to_fahrenheit(celsius_val)}°F\")\n",
        "    except ValueError:\n",
        "        print(f\"Invalid input for Celsius: {celsius_to_fahrenheit(user_celsius)}\")\n",
        "    user_fahrenheit = input(\"Enter a temperature in Fahrenheit: \")\n",
        "    try:\n",
        "        fahrenheit_val = float(user_fahrenheit)\n",
        "        print(f\"{user_fahrenheit}°F = {fahrenheit_to_celsius(fahrenheit_val)}°C\")\n",
        "    except ValueError:\n",
        "        print(f\"Invalid input for Fahrenheit: {fahrenheit_to_celsius(user_fahrenheit)}\")\n",
        "except Exception as e:\n",
        "    print(f\"An error occurred: {e}\")"
      ],
      "execution_count": null,
      "outputs": [
        {
          "output_type": "stream",
          "name": "stdout",
          "text": [
            "Testing celsius_to_fahrenheit:\n",
            "0°C = 32.0°F\n",
            "100°C = 212.0°F\n",
            "25.5°C = 77.9°F\n",
            "'abc' = Invalid input: Please provide a number.\n",
            "None = Invalid input: Please provide a number.\n",
            "\n",
            "Testing fahrenheit_to_celsius:\n",
            "32°F = 0.0°C\n",
            "212°F = 100.0°C\n",
            "77.9°F = 25.500000000000004°C\n",
            "'xyz' = Invalid input: Please provide a number.\n",
            "None = Invalid input: Please provide a number.\n",
            "\n",
            "Enter a temperature in Celsius: 31 \n",
            "31 °C = 87.8°F\n",
            "Enter a temperature in Fahrenheit: 56\n",
            "56°F = 13.333333333333334°C\n"
          ]
        }
      ]
    },
    {
      "cell_type": "markdown",
      "source": [
        "TEXT-3"
      ],
      "metadata": {
        "id": "twOGcvt5qqcq"
      }
    },
    {
      "cell_type": "code",
      "metadata": {
        "colab": {
          "base_uri": "https://localhost:8080/"
        },
        "id": "de80226b",
        "outputId": "b8b1a9e2-f668-4ac9-fd80-1a999b2d5c32"
      },
      "source": [
        "import string\n",
        "def count_words(text):\n",
        "    \"\"\"\n",
        "    Counts the number of words in a sentence.\n",
        "    Args:\n",
        "        text: A string representing the sentence.\n",
        "    Returns:\n",
        "        The number of words in the sentence.\n",
        "    \"\"\"\n",
        "    if not isinstance(text, str):\n",
        "        return \"Invalid input: Please provide a string.\"\n",
        "    # Remove punctuation\n",
        "    text = text.translate(str.maketrans('', '', string.punctuation))\n",
        "    # Split the text into words and filter out empty strings\n",
        "    words = text.split()\n",
        "    return len(words)\n",
        "# Test cases\n",
        "print(\"Testing count_words:\")\n",
        "print(f\"'Hello world' has {count_words('Hello world')} words.\")\n",
        "print(f\"'  Multiple   spaces   ' has {count_words('  Multiple   spaces   ')} words.\")\n",
        "print(f\"'Sentence with punctuation!' has {count_words('Sentence with punctuation!')} words.\")\n",
        "print(f\"'' has {count_words('')} words.\")\n",
        "print(f\"'   ' has {count_words('   ')} words.\")\n",
        "print(f\"None has {count_words(None)} words.\")\n",
        "# User input\n",
        "user_sentence = input(\"\\nEnter a sentence to count the words: \")\n",
        "print(f\"'{user_sentence}' has {count_words(user_sentence)} words.\")"
      ],
      "execution_count": null,
      "outputs": [
        {
          "output_type": "stream",
          "name": "stdout",
          "text": [
            "Testing count_words:\n",
            "'Hello world' has 2 words.\n",
            "'  Multiple   spaces   ' has 2 words.\n",
            "'Sentence with punctuation!' has 3 words.\n",
            "'' has 0 words.\n",
            "'   ' has 0 words.\n",
            "None has Invalid input: Please provide a string. words.\n",
            "\n",
            "Enter a sentence to count the words: combine the code and give me the final output\n",
            "'combine the code and give me the final output' has 9 words.\n"
          ]
        }
      ]
    },
    {
      "cell_type": "markdown",
      "source": [
        "TEXT-4"
      ],
      "metadata": {
        "id": "xnpcEnqKtEGE"
      }
    },
    {
      "cell_type": "code",
      "source": [
        "class BankAccount:\n",
        "    \"\"\"Represents a simple bank account.\"\"\"\n",
        "    def __init__(self, initial_balance=0):\n",
        "        if initial_balance < 0:\n",
        "            raise ValueError(\"Initial balance cannot be negative.\")\n",
        "        self._balance = initial_balance\n",
        "    def deposit(self, amount):\n",
        "        \"\"\"Deposits money into the account.\"\"\"\n",
        "        if amount < 0:\n",
        "            raise ValueError(\"Deposit amount cannot be negative.\")\n",
        "        self._balance += amount\n",
        "        print(f\"Deposited: ${amount:.2f}\")\n",
        "        self.check_balance()\n",
        "    def withdraw(self, amount):\n",
        "        \"\"\"Withdraws money from the account.\"\"\"\n",
        "        if amount < 0:\n",
        "            raise ValueError(\"Withdrawal amount cannot be negative.\")\n",
        "        if amount > self._balance:\n",
        "            raise ValueError(\"Insufficient funds.\")\n",
        "        self._balance -= amount\n",
        "        print(f\"Withdrew: ${amount:.2f}\")\n",
        "        self.check_balance()\n",
        "    def check_balance(self):\n",
        "        \"\"\"Checks the current balance.\"\"\"\n",
        "        print(f\"Current balance: ${self._balance:.2f}\")\n",
        "        return self._balance\n",
        "# User interaction\n",
        "try:\n",
        "    initial_balance = float(input(\"Enter initial balance: \"))\n",
        "    account = BankAccount(initial_balance)\n",
        "    while True:\n",
        "        action = input(\"\\nChoose action (deposit, withdraw, check, exit): \").lower()\n",
        "        if action == 'deposit':\n",
        "            try:\n",
        "                amount = float(input(\"Enter deposit amount: \"))\n",
        "                account.deposit(amount)\n",
        "            except ValueError as e:\n",
        "                print(f\"Error: {e}\")\n",
        "        elif action == 'withdraw':\n",
        "            try:\n",
        "                amount = float(input(\"Enter withdrawal amount: \"))\n",
        "                account.withdraw(amount)\n",
        "            except ValueError as e:\n",
        "                print(f\"Error: {e}\")\n",
        "        elif action == 'check':\n",
        "            account.check_balance()\n",
        "        elif action == 'exit':\n",
        "            print(\"Exiting.\")\n",
        "            break\n",
        "        else:\n",
        "            print(\"Invalid action. Please choose deposit, withdraw, check, or exit.\")\n",
        "except ValueError as e:\n",
        "    print(f\"Error creating account: {e}\")"
      ],
      "metadata": {
        "colab": {
          "base_uri": "https://localhost:8080/"
        },
        "id": "76BawPMGsX_g",
        "outputId": "2be8ea9a-d942-4dcb-9ece-a53f630b2600"
      },
      "execution_count": null,
      "outputs": [
        {
          "output_type": "stream",
          "name": "stdout",
          "text": [
            "Enter initial balance: 45000\n",
            "\n",
            "Choose action (deposit, withdraw, check, exit): withdraw\n",
            "Enter withdrawal amount: 10000\n",
            "Withdrew: $10000.00\n",
            "Current balance: $35000.00\n",
            "\n",
            "Choose action (deposit, withdraw, check, exit): exit\n",
            "Exiting.\n"
          ]
        }
      ]
    },
    {
      "cell_type": "markdown",
      "source": [
        "TEXT-5"
      ],
      "metadata": {
        "id": "vbzLmJxawuEg"
      }
    },
    {
      "cell_type": "code",
      "metadata": {
        "colab": {
          "base_uri": "https://localhost:8080/"
        },
        "id": "20b8c0ec",
        "outputId": "70ee016d-ae4a-4255-b030-ef51a1b3b63c"
      },
      "source": [
        "def is_number_palindrome(num):\n",
        "    \"\"\"\n",
        "    Checks if an integer reads the same backward.\n",
        "    Args:\n",
        "        num: An integer.\n",
        "    Returns:\n",
        "        True if the number is a palindrome, False otherwise.\n",
        "    \"\"\"\n",
        "    # Handle negative numbers\n",
        "    if num < 0:\n",
        "        return False\n",
        "    # Handle 0\n",
        "    if num == 0:\n",
        "        return True\n",
        "    # Convert the number to a string to easily reverse it\n",
        "    num_str = str(num)\n",
        "    # Compare the string with its reverse\n",
        "    return num_str == num_str[::-1]\n",
        "# Test cases\n",
        "print(f\"is_number_palindrome(121): {is_number_palindrome(121)}\")\n",
        "print(f\"is_number_palindrome(123): {is_number_palindrome(123)}\")\n",
        "print(f\"is_number_palindrome(0): {is_number_palindrome(0)}\")\n",
        "print(f\"is_number_palindrome(-121): {is_number_palindrome(-121)}\")\n",
        "print(f\"is_number_palindrome(12321): {is_number_palindrome(12321)}\")\n",
        "print(f\"is_number_palindrome(1): {is_number_palindrome(1)}\")\n",
        "print(f\"is_number_palindrome(10): {is_number_palindrome(10)}\")\n",
        "# User input\n",
        "try:\n",
        "    user_input = input(\"\\nEnter an integer to check if it's a palindrome: \")\n",
        "    user_number = int(user_input)\n",
        "    print(f\"is_number_palindrome({user_number}): {is_number_palindrome(user_number)}\")\n",
        "except ValueError:\n",
        "    print(\"Invalid input. Please enter an integer.\")"
      ],
      "execution_count": null,
      "outputs": [
        {
          "output_type": "stream",
          "name": "stdout",
          "text": [
            "is_number_palindrome(121): True\n",
            "is_number_palindrome(123): False\n",
            "is_number_palindrome(0): True\n",
            "is_number_palindrome(-121): False\n",
            "is_number_palindrome(12321): True\n",
            "is_number_palindrome(1): True\n",
            "is_number_palindrome(10): False\n",
            "\n",
            "Enter an integer to check if it's a palindrome: 457\n",
            "is_number_palindrome(457): False\n"
          ]
        }
      ]
    }
  ]
}